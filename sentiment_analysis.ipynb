{
 "cells": [
  {
   "cell_type": "code",
   "execution_count": 1,
   "id": "4bb0320e-a040-4534-ba89-827f38bbf919",
   "metadata": {
    "tags": []
   },
   "outputs": [
    {
     "name": "stderr",
     "output_type": "stream",
     "text": [
      "[nltk_data] Downloading package punkt to\n",
      "[nltk_data]     C:\\Users\\rakhe\\AppData\\Roaming\\nltk_data...\n",
      "[nltk_data]   Unzipping tokenizers\\punkt.zip.\n",
      "[nltk_data] Downloading package stopwords to\n",
      "[nltk_data]     C:\\Users\\rakhe\\AppData\\Roaming\\nltk_data...\n",
      "[nltk_data]   Unzipping corpora\\stopwords.zip.\n",
      "[nltk_data] Downloading package wordnet to\n",
      "[nltk_data]     C:\\Users\\rakhe\\AppData\\Roaming\\nltk_data...\n",
      "[nltk_data] Downloading package averaged_perceptron_tagger to\n",
      "[nltk_data]     C:\\Users\\rakhe\\AppData\\Roaming\\nltk_data...\n",
      "[nltk_data]   Unzipping taggers\\averaged_perceptron_tagger.zip.\n"
     ]
    },
    {
     "data": {
      "text/plain": [
       "True"
      ]
     },
     "execution_count": 1,
     "metadata": {},
     "output_type": "execute_result"
    }
   ],
   "source": [
    "# Import required libraries\n",
    "import pandas as pd\n",
    "import numpy as np\n",
    "from sklearn.model_selection import train_test_split\n",
    "from sklearn.metrics import classification_report, confusion_matrix\n",
    "import seaborn as sns\n",
    "import matplotlib.pyplot as plt\n",
    "from nltk.tokenize import word_tokenize\n",
    "from nltk.corpus import stopwords\n",
    "from nltk.stem import WordNetLemmatizer\n",
    "import nltk\n",
    "import re\n",
    "from sklearn.feature_extraction.text import TfidfVectorizer\n",
    "from sklearn.pipeline import Pipeline\n",
    "from sklearn.ensemble import RandomForestClassifier\n",
    "from sklearn.model_selection import GridSearchCV\n",
    "\n",
    "# Download required NLTK data\n",
    "nltk.download('punkt')\n",
    "nltk.download('stopwords')\n",
    "nltk.download('wordnet')\n",
    "nltk.download('averaged_perceptron_tagger')"
   ]
  },
  {
   "cell_type": "code",
   "execution_count": 6,
   "id": "6e78937e-1ac0-4d25-bf5a-9dc2c84b8153",
   "metadata": {
    "tags": []
   },
   "outputs": [
    {
     "data": {
      "text/html": [
       "<div>\n",
       "<style scoped>\n",
       "    .dataframe tbody tr th:only-of-type {\n",
       "        vertical-align: middle;\n",
       "    }\n",
       "\n",
       "    .dataframe tbody tr th {\n",
       "        vertical-align: top;\n",
       "    }\n",
       "\n",
       "    .dataframe thead th {\n",
       "        text-align: right;\n",
       "    }\n",
       "</style>\n",
       "<table border=\"1\" class=\"dataframe\">\n",
       "  <thead>\n",
       "    <tr style=\"text-align: right;\">\n",
       "      <th></th>\n",
       "      <th>sentiment</th>\n",
       "      <th>content</th>\n",
       "    </tr>\n",
       "  </thead>\n",
       "  <tbody>\n",
       "    <tr>\n",
       "      <th>0</th>\n",
       "      <td>empty</td>\n",
       "      <td>@tiffanylue i know  i was listenin to bad habi...</td>\n",
       "    </tr>\n",
       "    <tr>\n",
       "      <th>1</th>\n",
       "      <td>sadness</td>\n",
       "      <td>Layin n bed with a headache  ughhhh...waitin o...</td>\n",
       "    </tr>\n",
       "    <tr>\n",
       "      <th>2</th>\n",
       "      <td>sadness</td>\n",
       "      <td>Funeral ceremony...gloomy friday...</td>\n",
       "    </tr>\n",
       "    <tr>\n",
       "      <th>3</th>\n",
       "      <td>enthusiasm</td>\n",
       "      <td>wants to hang out with friends SOON!</td>\n",
       "    </tr>\n",
       "    <tr>\n",
       "      <th>4</th>\n",
       "      <td>neutral</td>\n",
       "      <td>@dannycastillo We want to trade with someone w...</td>\n",
       "    </tr>\n",
       "  </tbody>\n",
       "</table>\n",
       "</div>"
      ],
      "text/plain": [
       "    sentiment                                            content\n",
       "0       empty  @tiffanylue i know  i was listenin to bad habi...\n",
       "1     sadness  Layin n bed with a headache  ughhhh...waitin o...\n",
       "2     sadness                Funeral ceremony...gloomy friday...\n",
       "3  enthusiasm               wants to hang out with friends SOON!\n",
       "4     neutral  @dannycastillo We want to trade with someone w..."
      ]
     },
     "execution_count": 6,
     "metadata": {},
     "output_type": "execute_result"
    }
   ],
   "source": [
    "# Load your data\n",
    "# Assuming your data is in a CSV file with 'sentiment' and 'content' columns\n",
    "df = pd.read_csv('sentiment_data.csv')\n",
    "\n",
    "# Display first few rows and basic information\n",
    "df.head(5)"
   ]
  },
  {
   "cell_type": "code",
   "execution_count": 7,
   "id": "05b3b3c0-0f6f-4ed3-acd5-ee087e9594d6",
   "metadata": {
    "tags": []
   },
   "outputs": [
    {
     "name": "stdout",
     "output_type": "stream",
     "text": [
      "<class 'pandas.core.frame.DataFrame'>\n",
      "RangeIndex: 40000 entries, 0 to 39999\n",
      "Data columns (total 2 columns):\n",
      " #   Column     Non-Null Count  Dtype \n",
      "---  ------     --------------  ----- \n",
      " 0   sentiment  40000 non-null  object\n",
      " 1   content    40000 non-null  object\n",
      "dtypes: object(2)\n",
      "memory usage: 625.1+ KB\n",
      "None\n"
     ]
    }
   ],
   "source": [
    "print(df.info())"
   ]
  },
  {
   "cell_type": "code",
   "execution_count": 8,
   "id": "fadb5871-252f-47f7-9d12-fb07c5d37c53",
   "metadata": {
    "tags": []
   },
   "outputs": [
    {
     "data": {
      "text/plain": [
       "array(['empty', 'sadness', 'enthusiasm', 'neutral', 'worry', 'surprise',\n",
       "       'love', 'fun', 'hate', 'happiness', 'boredom', 'relief', 'anger'],\n",
       "      dtype=object)"
      ]
     },
     "execution_count": 8,
     "metadata": {},
     "output_type": "execute_result"
    }
   ],
   "source": [
    "df['sentiment'].unique()"
   ]
  },
  {
   "cell_type": "code",
   "execution_count": 9,
   "id": "2269ab58-b3db-4f76-8156-0889d260f555",
   "metadata": {
    "tags": []
   },
   "outputs": [
    {
     "name": "stdout",
     "output_type": "stream",
     "text": [
      "Preprocessing texts...\n",
      "\n",
      "Processed text examples:\n",
      "\n",
      "Original: @tiffanylue i know  i was listenin to bad habit earlier and i started freakin at his part =[\n",
      "Processed: know listenin bad habit earlier started freakin part\n",
      "\n",
      "Original: Layin n bed with a headache  ughhhh...waitin on your call...\n",
      "Processed: layin bed headache ughhhhwaitin call\n",
      "\n",
      "Original: Funeral ceremony...gloomy friday...\n",
      "Processed: funeral ceremonygloomy friday\n"
     ]
    }
   ],
   "source": [
    "# Text preprocessing functions\n",
    "def preprocess_text(text):\n",
    "    \"\"\"Clean and preprocess text data\"\"\"\n",
    "    # Initialize lemmatizer and stopwords\n",
    "    lemmatizer = WordNetLemmatizer()\n",
    "    stop_words = set(stopwords.words('english'))\n",
    "    \n",
    "    # Convert to lowercase\n",
    "    text = text.lower()\n",
    "    \n",
    "    # Remove URLs\n",
    "    text = re.sub(r'http\\S+|www\\S+|https\\S+', '', text, flags=re.MULTILINE)\n",
    "    \n",
    "    # Remove user mentions (@username)\n",
    "    text = re.sub(r'@\\w+', '', text)\n",
    "    \n",
    "    # Remove hashtags\n",
    "    text = re.sub(r'#\\w+', '', text)\n",
    "    \n",
    "    # Remove numbers and special characters\n",
    "    text = re.sub(r'[^a-zA-Z\\s]', '', text)\n",
    "    \n",
    "    # Tokenize\n",
    "    tokens = word_tokenize(text)\n",
    "    \n",
    "    # Remove stopwords and lemmatize\n",
    "    tokens = [lemmatizer.lemmatize(token) for token in tokens \n",
    "             if token not in stop_words and len(token) > 2]\n",
    "    \n",
    "    return ' '.join(tokens)\n",
    "\n",
    "# Apply preprocessing to the content column\n",
    "print(\"Preprocessing texts...\")\n",
    "df['processed_content'] = df['content'].apply(preprocess_text)\n",
    "\n",
    "# Display some processed examples\n",
    "print(\"\\nProcessed text examples:\")\n",
    "for i in range(3):\n",
    "    print(f\"\\nOriginal: {df['content'].iloc[i]}\")\n",
    "    print(f\"Processed: {df['processed_content'].iloc[i]}\")"
   ]
  },
  {
   "cell_type": "code",
   "execution_count": 10,
   "id": "7067b81f-dea8-4fb5-b07a-bb4abc854d5c",
   "metadata": {
    "tags": []
   },
   "outputs": [
    {
     "name": "stdout",
     "output_type": "stream",
     "text": [
      "Training set size: 32000\n",
      "Testing set size: 8000\n",
      "\n",
      "Training set class distribution:\n",
      "sentiment\n",
      "neutral       0.215938\n",
      "worry         0.211469\n",
      "happiness     0.130219\n",
      "sadness       0.129125\n",
      "love          0.096062\n",
      "surprise      0.054688\n",
      "fun           0.044406\n",
      "relief        0.038156\n",
      "hate          0.033063\n",
      "empty         0.020688\n",
      "enthusiasm    0.018969\n",
      "boredom       0.004469\n",
      "anger         0.002750\n",
      "Name: proportion, dtype: float64\n",
      "\n",
      "Testing set class distribution:\n",
      "sentiment\n",
      "neutral       0.216000\n",
      "worry         0.211500\n",
      "happiness     0.130250\n",
      "sadness       0.129125\n",
      "love          0.096000\n",
      "surprise      0.054625\n",
      "fun           0.044375\n",
      "relief        0.038125\n",
      "hate          0.033125\n",
      "empty         0.020625\n",
      "enthusiasm    0.019000\n",
      "boredom       0.004500\n",
      "anger         0.002750\n",
      "Name: proportion, dtype: float64\n"
     ]
    }
   ],
   "source": [
    "# Split the data into training and testing sets\n",
    "X_train, X_test, y_train, y_test = train_test_split(\n",
    "    df['processed_content'], \n",
    "    df['sentiment'],\n",
    "    test_size=0.2,\n",
    "    random_state=42,\n",
    "    stratify=df['sentiment']\n",
    ")\n",
    "\n",
    "print(\"Training set size:\", len(X_train))\n",
    "print(\"Testing set size:\", len(X_test))\n",
    "\n",
    "# Check class distribution\n",
    "print(\"\\nTraining set class distribution:\")\n",
    "print(y_train.value_counts(normalize=True))\n",
    "print(\"\\nTesting set class distribution:\")\n",
    "print(y_test.value_counts(normalize=True))"
   ]
  },
  {
   "cell_type": "code",
   "execution_count": 11,
   "id": "019a65c1-4073-4f00-9682-63aba8426e94",
   "metadata": {
    "tags": []
   },
   "outputs": [
    {
     "name": "stdout",
     "output_type": "stream",
     "text": [
      "Training model...\n",
      "Fitting 3 folds for each of 24 candidates, totalling 72 fits\n",
      "\n",
      "Best parameters: {'clf__max_depth': None, 'clf__n_estimators': 200, 'tfidf__max_features': 5000, 'tfidf__ngram_range': (1, 1)}\n"
     ]
    }
   ],
   "source": [
    "# Create and train the pipeline with GridSearchCV\n",
    "# This cell might take some time to execute\n",
    "pipeline = Pipeline([\n",
    "    ('tfidf', TfidfVectorizer(\n",
    "        max_features=5000,\n",
    "        ngram_range=(1, 2),\n",
    "        min_df=5\n",
    "    )),\n",
    "    ('clf', RandomForestClassifier(\n",
    "        n_estimators=200,\n",
    "        random_state=42,\n",
    "        n_jobs=-1\n",
    "    ))\n",
    "])\n",
    "\n",
    "# Define parameters for grid search\n",
    "param_grid = {\n",
    "    'tfidf__max_features': [3000, 5000],\n",
    "    'tfidf__ngram_range': [(1, 1), (1, 2)],\n",
    "    'clf__n_estimators': [100, 200],\n",
    "    'clf__max_depth': [None, 10, 20]\n",
    "}\n",
    "\n",
    "# Create and train GridSearchCV\n",
    "grid_search = GridSearchCV(\n",
    "    pipeline,\n",
    "    param_grid,\n",
    "    cv=3,\n",
    "    n_jobs=-1,\n",
    "    verbose=1\n",
    ")\n",
    "\n",
    "print(\"Training model...\")\n",
    "grid_search.fit(X_train, y_train)\n",
    "\n",
    "print(\"\\nBest parameters:\", grid_search.best_params_)"
   ]
  },
  {
   "cell_type": "code",
   "execution_count": 12,
   "id": "a6f81a20-8fae-4aa6-8b6b-dc7f66057920",
   "metadata": {
    "tags": []
   },
   "outputs": [
    {
     "name": "stdout",
     "output_type": "stream",
     "text": [
      "Classification Report:\n",
      "              precision    recall  f1-score   support\n",
      "\n",
      "       anger       0.00      0.00      0.00        22\n",
      "     boredom       0.00      0.00      0.00        36\n",
      "       empty       0.00      0.00      0.00       165\n",
      "  enthusiasm       0.00      0.00      0.00       152\n",
      "         fun       0.07      0.01      0.02       355\n",
      "   happiness       0.30      0.35      0.33      1042\n",
      "        hate       0.38      0.18      0.24       265\n",
      "        love       0.47      0.42      0.44       768\n",
      "     neutral       0.34      0.51      0.41      1728\n",
      "      relief       0.16      0.03      0.05       305\n",
      "     sadness       0.33      0.22      0.27      1033\n",
      "    surprise       0.17      0.04      0.06       437\n",
      "       worry       0.34      0.49      0.40      1692\n",
      "\n",
      "    accuracy                           0.34      8000\n",
      "   macro avg       0.20      0.17      0.17      8000\n",
      "weighted avg       0.30      0.34      0.31      8000\n",
      "\n"
     ]
    },
    {
     "data": {
      "image/png": "[encoded data removed]",
      "text/plain": [
       "<Figure size 1000x800 with 2 Axes>"
      ]
     },
     "metadata": {},
     "output_type": "display_data"
    }
   ],
   "source": [
    "# Make predictions and evaluate the model\n",
    "y_pred = grid_search.predict(X_test)\n",
    "\n",
    "# Print classification report\n",
    "print(\"Classification Report:\")\n",
    "print(classification_report(y_test, y_pred))\n",
    "\n",
    "# Create confusion matrix visualization\n",
    "plt.figure(figsize=(10, 8))\n",
    "sns.heatmap(confusion_matrix(y_test, y_pred), \n",
    "            annot=True, \n",
    "            fmt='d', \n",
    "            cmap='Blues')\n",
    "plt.title('Confusion Matrix')\n",
    "plt.ylabel('True Label')\n",
    "plt.xlabel('Predicted Label')\n",
    "plt.show()"
   ]
  },
  {
   "cell_type": "code",
   "execution_count": 13,
   "id": "52b345f0-276b-471f-ac67-7d2b4ce9321c",
   "metadata": {
    "tags": []
   },
   "outputs": [
    {
     "name": "stdout",
     "output_type": "stream",
     "text": [
      "Example predictions:\n",
      "\n",
      "Text: I love this product! It's amazing!\n",
      "Predicted sentiment: love\n",
      "\n",
      "Text: This is the worst experience ever.\n",
      "Predicted sentiment: worry\n",
      "\n",
      "Text: The weather is okay today, nothing special.\n",
      "Predicted sentiment: neutral\n",
      "\n",
      "Text: @friend I'm so excited to see you tomorrow!\n",
      "Predicted sentiment: happiness\n"
     ]
    }
   ],
   "source": [
    "# Function to predict sentiment for new texts\n",
    "def predict_sentiment(text, model=grid_search):\n",
    "    # Preprocess the text\n",
    "    processed_text = preprocess_text(text)\n",
    "    # Make prediction\n",
    "    prediction = model.predict([processed_text])[0]\n",
    "    return prediction\n",
    "\n",
    "# Test the model with some example texts\n",
    "example_texts = [\n",
    "    \"I love this product! It's amazing!\",\n",
    "    \"This is the worst experience ever.\",\n",
    "    \"The weather is okay today, nothing special.\",\n",
    "    \"@friend I'm so excited to see you tomorrow!\"\n",
    "]\n",
    "\n",
    "print(\"Example predictions:\")\n",
    "for text in example_texts:\n",
    "    sentiment = predict_sentiment(text)\n",
    "    print(f\"\\nText: {text}\")\n",
    "    print(f\"Predicted sentiment: {sentiment}\")"
   ]
  },
  {
   "cell_type": "code",
   "execution_count": 14,
   "id": "8e32dea6-6eeb-4c7f-b73f-70ad4657aa6c",
   "metadata": {
    "tags": []
   },
   "outputs": [
    {
     "name": "stdout",
     "output_type": "stream",
     "text": [
      "Saving model to sentiment_analysis_model.pkl...\n",
      "Model saved successfully!\n"
     ]
    }
   ],
   "source": [
    "# Export the trained model to pickle file\n",
    "import pickle\n",
    "\n",
    "# Save the entire model pipeline\n",
    "model_filename = 'sentiment_analysis_model.pkl'\n",
    "print(f\"Saving model to {model_filename}...\")\n",
    "pickle.dump(grid_search, open(model_filename, 'wb'))\n",
    "print(\"Model saved successfully!\")"
   ]
  },
  {
   "cell_type": "code",
   "execution_count": 15,
   "id": "8b5a08c1-ae4f-4987-bd5d-e1dcd4218f0a",
   "metadata": {
    "tags": []
   },
   "outputs": [
    {
     "name": "stdout",
     "output_type": "stream",
     "text": [
      "\n",
      "Test text: I'm really happy today!\n",
      "Predicted sentiment: happiness\n"
     ]
    }
   ],
   "source": [
    "# Function to load the model and make predictions\n",
    "def load_model_and_predict(text, model_path='sentiment_analysis_model.pkl'):\n",
    "    # Load the model\n",
    "    loaded_model = pickle.load(open(model_path, 'rb'))\n",
    "    \n",
    "    # Preprocess the text (using our previous preprocess_text function)\n",
    "    processed_text = preprocess_text(text)\n",
    "    \n",
    "    # Make prediction\n",
    "    prediction = loaded_model.predict([processed_text])[0]\n",
    "    \n",
    "    return prediction\n",
    "\n",
    "# Test the loaded model\n",
    "test_text = \"I'm really happy today!\"\n",
    "prediction = load_model_and_predict(test_text)\n",
    "print(f\"\\nTest text: {test_text}\")\n",
    "print(f\"Predicted sentiment: {prediction}\")"
   ]
  },
  {
   "cell_type": "code",
   "execution_count": null,
   "id": "b7d30829-d856-4bf6-b2ea-add1263cf6b6",
   "metadata": {},
   "outputs": [],
   "source": []
  }
 ],
 "metadata": {
  "kernelspec": {
   "display_name": "Python 3 (ipykernel)",
   "language": "python",
   "name": "python3"
  },
  "language_info": {
   "codemirror_mode": {
    "name": "ipython",
    "version": 3
   },
   "file_extension": ".py",
   "mimetype": "text/x-python",
   "name": "python",
   "nbconvert_exporter": "python",
   "pygments_lexer": "ipython3",
   "version": "3.11.5"
  }
 },
 "nbformat": 4,
 "nbformat_minor": 5
}
